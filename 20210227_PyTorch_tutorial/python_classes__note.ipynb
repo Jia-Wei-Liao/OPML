{
 "cells": [
  {
   "cell_type": "markdown",
   "id": "prescribed-contrary",
   "metadata": {},
   "source": [
    "# Import Packages"
   ]
  },
  {
   "cell_type": "code",
   "execution_count": 1,
   "id": "considerable-device",
   "metadata": {},
   "outputs": [],
   "source": [
    "from abc import ABC, abstractmethod\n",
    "import numpy as np"
   ]
  },
  {
   "cell_type": "markdown",
   "id": "alike-proposition",
   "metadata": {},
   "source": [
    "# Callable\n",
    "Callable 主要的功能就是可以直接用括號吃某些 input 做一些事情。\n",
    "想像起來跟我們數學上的函數有點接近，但 callable 可以接受沒有 output。（雖然一般來說會有 output）"
   ]
  },
  {
   "cell_type": "code",
   "execution_count": 2,
   "id": "million-restoration",
   "metadata": {},
   "outputs": [
    {
     "name": "stdout",
     "output_type": "stream",
     "text": [
      "f(3) = 7\n",
      "f is callable.\n"
     ]
    }
   ],
   "source": [
    "def f(x):\n",
    "    return 2 * x + 1\n",
    "\n",
    "print(f\"f(3) = {f(3)}\")\n",
    "\n",
    "if callable(f):\n",
    "    print(\"f is callable.\")\n",
    "\n",
    "else:\n",
    "    print(\"f is not callable.\")"
   ]
  },
  {
   "cell_type": "code",
   "execution_count": 6,
   "id": "rocky-mitchell",
   "metadata": {},
   "outputs": [
    {
     "name": "stdout",
     "output_type": "stream",
     "text": [
      "f(3) = 7\n",
      "f is callable.\n"
     ]
    }
   ],
   "source": [
    "class LinearFunction:\n",
    "    def __init__(self, slope=2, intercept=1):\n",
    "        self.A = slope\n",
    "        self.b = intercept\n",
    "\n",
    "    def __call__(self, x):\n",
    "        return self.A * x + self.b\n",
    "\n",
    "f = LinearFunction()\n",
    "\n",
    "print(f\"f(3) = {f(3)}\")\n",
    "\n",
    "if callable(f):\n",
    "    print(\"f is callable.\")\n",
    "\n",
    "else:\n",
    "    print(\"f is not callable.\")"
   ]
  },
  {
   "cell_type": "code",
   "execution_count": 8,
   "id": "cutting-think",
   "metadata": {},
   "outputs": [
    {
     "data": {
      "text/plain": [
       "3"
      ]
     },
     "execution_count": 8,
     "metadata": {},
     "output_type": "execute_result"
    }
   ],
   "source": [
    "LinearFunction(intercept=-3)(3)"
   ]
  },
  {
   "cell_type": "code",
   "execution_count": 11,
   "id": "activated-speaking",
   "metadata": {},
   "outputs": [],
   "source": [
    "class LinearFunction:\n",
    "    def __init__(self, slope=2, intercept=1):\n",
    "        self.A = slope\n",
    "        self.b = intercept\n",
    "\n",
    "    def __call__(self, x):\n",
    "        return self.A * x + self.b\n",
    "\n",
    "    def set_params(self, slope=2, intercept=1):\n",
    "        self.A = slope\n",
    "        self.b = intercept"
   ]
  },
  {
   "cell_type": "code",
   "execution_count": 12,
   "id": "considerable-algeria",
   "metadata": {},
   "outputs": [
    {
     "name": "stdout",
     "output_type": "stream",
     "text": [
      "2 1\n"
     ]
    }
   ],
   "source": [
    "f = LinearFunction(2, 1)\n",
    "print(f.A, f.b)"
   ]
  },
  {
   "cell_type": "code",
   "execution_count": 13,
   "id": "trained-portugal",
   "metadata": {},
   "outputs": [
    {
     "name": "stdout",
     "output_type": "stream",
     "text": [
      "3 1\n"
     ]
    }
   ],
   "source": [
    "f.set_params(slope=3)\n",
    "print(f.A, f.b)"
   ]
  },
  {
   "cell_type": "code",
   "execution_count": 19,
   "id": "stuffed-montreal",
   "metadata": {},
   "outputs": [
    {
     "data": {
      "text/plain": [
       "__main__.LinearFunction"
      ]
     },
     "execution_count": 19,
     "metadata": {},
     "output_type": "execute_result"
    }
   ],
   "source": [
    "type(f)"
   ]
  },
  {
   "cell_type": "markdown",
   "id": "drawn-gilbert",
   "metadata": {},
   "source": [
    "# Iterable\n",
    "Iterable 主要的功能就是可以「（按順序）取用」它的元素，其使命就是搭配 for 迴圈使用。"
   ]
  },
  {
   "cell_type": "code",
   "execution_count": 20,
   "id": "excited-green",
   "metadata": {},
   "outputs": [
    {
     "name": "stdout",
     "output_type": "stream",
     "text": [
      "1\n",
      "2\n",
      "3\n",
      "4\n",
      "5\n",
      "6\n"
     ]
    }
   ],
   "source": [
    "numbers = [1, 2, 3, 4, 5, 6]\n",
    "\n",
    "for number in numbers:\n",
    "    print(number)"
   ]
  },
  {
   "cell_type": "code",
   "execution_count": 21,
   "id": "chronic-boring",
   "metadata": {},
   "outputs": [
    {
     "name": "stdout",
     "output_type": "stream",
     "text": [
      "1\n",
      "2\n",
      "3\n",
      "4\n",
      "5\n",
      "6\n"
     ]
    }
   ],
   "source": [
    "numbers = (1, 2, 3, 4, 5, 6)\n",
    "\n",
    "for number in numbers:\n",
    "    print(number)"
   ]
  },
  {
   "cell_type": "code",
   "execution_count": 22,
   "id": "concrete-fantasy",
   "metadata": {},
   "outputs": [
    {
     "name": "stdout",
     "output_type": "stream",
     "text": [
      "1\n",
      "2\n",
      "3\n",
      "4\n",
      "5\n",
      "6\n"
     ]
    }
   ],
   "source": [
    "class Integers:\n",
    "    def __init__(self, m, M):\n",
    "        self.m = m\n",
    "        self.n = M - m\n",
    "\n",
    "    def __getitem__(self, index):\n",
    "        if index < 0 or index >= self.n:\n",
    "            raise IndexError(f\"Valid index should lies in [0, {self.n}).\")\n",
    "\n",
    "        else:\n",
    "            return self.m + index\n",
    "\n",
    "integers = Integers(1, 7)\n",
    "\n",
    "for i in integers:\n",
    "    print(i)"
   ]
  },
  {
   "cell_type": "code",
   "execution_count": 31,
   "id": "opposed-biology",
   "metadata": {},
   "outputs": [
    {
     "data": {
      "text/plain": [
       "3.0"
      ]
     },
     "execution_count": 31,
     "metadata": {},
     "output_type": "execute_result"
    }
   ],
   "source": [
    "integers.__getitem__(2.)"
   ]
  },
  {
   "cell_type": "code",
   "execution_count": 27,
   "id": "vocational-shopping",
   "metadata": {},
   "outputs": [
    {
     "data": {
      "text/plain": [
       "3"
      ]
     },
     "execution_count": 27,
     "metadata": {},
     "output_type": "execute_result"
    }
   ],
   "source": [
    "integers[2]"
   ]
  },
  {
   "cell_type": "code",
   "execution_count": 29,
   "id": "limited-worship",
   "metadata": {},
   "outputs": [
    {
     "data": {
      "text/plain": [
       "(1, 6)"
      ]
     },
     "execution_count": 29,
     "metadata": {},
     "output_type": "execute_result"
    }
   ],
   "source": [
    "integers.m, integers.n"
   ]
  },
  {
   "cell_type": "code",
   "execution_count": 33,
   "id": "first-pantyhose",
   "metadata": {},
   "outputs": [
    {
     "name": "stdout",
     "output_type": "stream",
     "text": [
      "1\n",
      "2\n",
      "3\n",
      "4\n",
      "5\n",
      "6\n",
      "7\n"
     ]
    }
   ],
   "source": [
    "integers = Integers(1, 7.2)\n",
    "\n",
    "for i in integers:\n",
    "    print(i)"
   ]
  },
  {
   "cell_type": "code",
   "execution_count": 36,
   "id": "promising-willow",
   "metadata": {},
   "outputs": [
    {
     "name": "stdout",
     "output_type": "stream",
     "text": [
      "2\n",
      "3\n",
      "4\n",
      "5\n",
      "6\n"
     ]
    }
   ],
   "source": [
    "class Integers:\n",
    "    def __init__(self, m, M):\n",
    "        self.m = int(round(m))\n",
    "        self.n = int(round(M)) - int(round(m))\n",
    "\n",
    "    def __getitem__(self, index):\n",
    "        if index < 0 or index >= self.n:\n",
    "            raise IndexError(f\"Valid index should lies in [0, {self.n}).\")\n",
    "\n",
    "        else:\n",
    "            return self.m + index\n",
    "\n",
    "integers = Integers(1.6, 7.2)\n",
    "\n",
    "for i in integers:\n",
    "    print(i)"
   ]
  },
  {
   "cell_type": "code",
   "execution_count": 39,
   "id": "thrown-technical",
   "metadata": {},
   "outputs": [
    {
     "ename": "TypeError",
     "evalue": "m and M should be integers, but got <class 'float'> and <class 'float'>",
     "output_type": "error",
     "traceback": [
      "\u001b[0;31m---------------------------------------------------------------------------\u001b[0m",
      "\u001b[0;31mTypeError\u001b[0m                                 Traceback (most recent call last)",
      "\u001b[0;32m<ipython-input-39-03118433a088>\u001b[0m in \u001b[0;36m<module>\u001b[0;34m\u001b[0m\n\u001b[1;32m     17\u001b[0m             \u001b[0;32mreturn\u001b[0m \u001b[0mself\u001b[0m\u001b[0;34m.\u001b[0m\u001b[0mm\u001b[0m \u001b[0;34m+\u001b[0m \u001b[0mindex\u001b[0m\u001b[0;34m\u001b[0m\u001b[0;34m\u001b[0m\u001b[0m\n\u001b[1;32m     18\u001b[0m \u001b[0;34m\u001b[0m\u001b[0m\n\u001b[0;32m---> 19\u001b[0;31m \u001b[0mintegers\u001b[0m \u001b[0;34m=\u001b[0m \u001b[0mIntegers\u001b[0m\u001b[0;34m(\u001b[0m\u001b[0;36m1.6\u001b[0m\u001b[0;34m,\u001b[0m \u001b[0;36m7.2\u001b[0m\u001b[0;34m)\u001b[0m\u001b[0;34m\u001b[0m\u001b[0;34m\u001b[0m\u001b[0m\n\u001b[0m\u001b[1;32m     20\u001b[0m \u001b[0;34m\u001b[0m\u001b[0m\n\u001b[1;32m     21\u001b[0m \u001b[0;32mfor\u001b[0m \u001b[0mi\u001b[0m \u001b[0;32min\u001b[0m \u001b[0mintegers\u001b[0m\u001b[0;34m:\u001b[0m\u001b[0;34m\u001b[0m\u001b[0;34m\u001b[0m\u001b[0m\n",
      "\u001b[0;32m<ipython-input-39-03118433a088>\u001b[0m in \u001b[0;36m__init__\u001b[0;34m(self, m, M)\u001b[0m\n\u001b[1;32m      5\u001b[0m         \u001b[0;32mif\u001b[0m \u001b[0;32mnot\u001b[0m \u001b[0;34m(\u001b[0m\u001b[0mtype\u001b[0m\u001b[0;34m(\u001b[0m\u001b[0mm\u001b[0m\u001b[0;34m)\u001b[0m \u001b[0;34m==\u001b[0m \u001b[0mint\u001b[0m \u001b[0;32mand\u001b[0m \u001b[0mtype\u001b[0m\u001b[0;34m(\u001b[0m\u001b[0mM\u001b[0m\u001b[0;34m)\u001b[0m \u001b[0;34m==\u001b[0m \u001b[0mint\u001b[0m\u001b[0;34m)\u001b[0m\u001b[0;34m:\u001b[0m\u001b[0;34m\u001b[0m\u001b[0;34m\u001b[0m\u001b[0m\n\u001b[1;32m      6\u001b[0m \u001b[0;31m#             warn(f\"m and M should be integers, but got {type(m)} and {type(M)}\")\u001b[0m\u001b[0;34m\u001b[0m\u001b[0;34m\u001b[0m\u001b[0;34m\u001b[0m\u001b[0m\n\u001b[0;32m----> 7\u001b[0;31m             \u001b[0;32mraise\u001b[0m \u001b[0mTypeError\u001b[0m\u001b[0;34m(\u001b[0m\u001b[0;34mf\"m and M should be integers, but got {type(m)} and {type(M)}\"\u001b[0m\u001b[0;34m)\u001b[0m\u001b[0;34m\u001b[0m\u001b[0;34m\u001b[0m\u001b[0m\n\u001b[0m\u001b[1;32m      8\u001b[0m \u001b[0;34m\u001b[0m\u001b[0m\n\u001b[1;32m      9\u001b[0m         \u001b[0mself\u001b[0m\u001b[0;34m.\u001b[0m\u001b[0mm\u001b[0m \u001b[0;34m=\u001b[0m \u001b[0mm\u001b[0m\u001b[0;34m\u001b[0m\u001b[0;34m\u001b[0m\u001b[0m\n",
      "\u001b[0;31mTypeError\u001b[0m: m and M should be integers, but got <class 'float'> and <class 'float'>"
     ]
    }
   ],
   "source": [
    "from warnings import warn\n",
    "\n",
    "class Integers:\n",
    "    def __init__(self, m, M):\n",
    "        if not (type(m) == int and type(M) == int):\n",
    "#             warn(f\"m and M should be integers, but got {type(m)} and {type(M)}\")\n",
    "            raise TypeError(f\"m and M should be integers, but got {type(m)} and {type(M)}\")\n",
    "\n",
    "        self.m = m\n",
    "        self.n = M - m\n",
    "\n",
    "    def __getitem__(self, index):\n",
    "        if index < 0 or index >= self.n:\n",
    "            raise IndexError(f\"Valid index should lies in [0, {self.n}).\")\n",
    "\n",
    "        else:\n",
    "            return self.m + index\n",
    "\n",
    "integers = Integers(1.6, 7.2)\n",
    "\n",
    "for i in integers:\n",
    "    print(i)"
   ]
  },
  {
   "cell_type": "code",
   "execution_count": 42,
   "id": "infectious-split",
   "metadata": {},
   "outputs": [
    {
     "data": {
      "text/plain": [
       "('image001.jpg', 'image002.jpg')"
      ]
     },
     "execution_count": 42,
     "metadata": {},
     "output_type": "execute_result"
    }
   ],
   "source": [
    "\"image001.jpg\", \"image002.jpg\""
   ]
  },
  {
   "cell_type": "code",
   "execution_count": 43,
   "id": "latest-abortion",
   "metadata": {},
   "outputs": [
    {
     "data": {
      "text/plain": [
       "'{}.jpg'"
      ]
     },
     "execution_count": 43,
     "metadata": {},
     "output_type": "execute_result"
    }
   ],
   "source": [
    "file_format = \"{}.jpg\"\n",
    "file_format"
   ]
  },
  {
   "cell_type": "code",
   "execution_count": 46,
   "id": "composite-large",
   "metadata": {},
   "outputs": [
    {
     "data": {
      "text/plain": [
       "'image001.jpg'"
      ]
     },
     "execution_count": 46,
     "metadata": {},
     "output_type": "execute_result"
    }
   ],
   "source": [
    "file_format.format(\"image001\")"
   ]
  },
  {
   "cell_type": "code",
   "execution_count": 47,
   "id": "disciplinary-night",
   "metadata": {},
   "outputs": [
    {
     "data": {
      "text/plain": [
       "'image001.jpg'"
      ]
     },
     "execution_count": 47,
     "metadata": {},
     "output_type": "execute_result"
    }
   ],
   "source": [
    "image_id = \"image001\"\n",
    "f\"{image_id}.jpg\""
   ]
  },
  {
   "cell_type": "code",
   "execution_count": 48,
   "id": "removable-standard",
   "metadata": {},
   "outputs": [
    {
     "name": "stdout",
     "output_type": "stream",
     "text": [
      "length = 6\n"
     ]
    }
   ],
   "source": [
    "class Integers:\n",
    "    def __init__(self, m, M):\n",
    "        self.m = m\n",
    "        self.n = M - m\n",
    "\n",
    "    def __getitem__(self, i):\n",
    "        if i < 0 or i >= self.n:\n",
    "            raise IndexError(f\"Valid index should lies in [0, {self.n}).\")\n",
    "\n",
    "        else:\n",
    "            return self.m + i\n",
    "\n",
    "    def __len__(self):\n",
    "        return self.n\n",
    "\n",
    "integers = Integers(1, 7)\n",
    "print(f\"length = {len(integers)}\")"
   ]
  },
  {
   "cell_type": "code",
   "execution_count": 49,
   "id": "green-brick",
   "metadata": {},
   "outputs": [
    {
     "name": "stdout",
     "output_type": "stream",
     "text": [
      "1\n",
      "2\n",
      "3\n",
      "4\n",
      "5\n",
      "6\n"
     ]
    }
   ],
   "source": [
    "class Integers:\n",
    "    def __init__(self, m, M):\n",
    "        self.i = m - 1\n",
    "        self.M = M - 1\n",
    "\n",
    "    def __next__(self):\n",
    "        if self.i < self.M:\n",
    "            self.i += 1\n",
    "\n",
    "            return self.i\n",
    "\n",
    "        else:\n",
    "            raise StopIteration()\n",
    "\n",
    "    def __iter__(self):\n",
    "        return self\n",
    "\n",
    "integers = Integers(1, 7)\n",
    "\n",
    "for i in integers:\n",
    "    print(i)"
   ]
  },
  {
   "cell_type": "markdown",
   "id": "unlikely-affect",
   "metadata": {},
   "source": [
    "但上述寫法只能迭代一次"
   ]
  },
  {
   "cell_type": "code",
   "execution_count": 50,
   "id": "together-latino",
   "metadata": {},
   "outputs": [],
   "source": [
    "for i in integers:\n",
    "    print(i)"
   ]
  },
  {
   "cell_type": "code",
   "execution_count": 51,
   "id": "crazy-separation",
   "metadata": {},
   "outputs": [
    {
     "name": "stdout",
     "output_type": "stream",
     "text": [
      "the first iteration\n",
      "1\n",
      "2\n",
      "3\n",
      "4\n",
      "5\n",
      "6\n",
      "the second iteration\n",
      "1\n",
      "2\n",
      "3\n",
      "4\n",
      "5\n",
      "6\n"
     ]
    }
   ],
   "source": [
    "class Integers:\n",
    "    def __init__(self, m, M):\n",
    "        self.i_init = m - 1\n",
    "        self.i = self.i_init\n",
    "        self.M = M - 1\n",
    "\n",
    "    def __next__(self):\n",
    "        if self.i < self.M:\n",
    "            self.i += 1\n",
    "\n",
    "            return self.i\n",
    "\n",
    "        else:\n",
    "            self.i = self.i_init\n",
    "            raise StopIteration()\n",
    "\n",
    "    def __iter__(self):\n",
    "        return self\n",
    "\n",
    "integers = Integers(1, 7)\n",
    "\n",
    "print(\"the first iteration\")\n",
    "for i in integers:\n",
    "    print(i)\n",
    "\n",
    "print(\"the second iteration\")\n",
    "for i in integers:\n",
    "    print(i)"
   ]
  },
  {
   "cell_type": "markdown",
   "id": "western-march",
   "metadata": {},
   "source": [
    "### Summary\n",
    "關於 iterable，我會建議寫這個寫法。\n",
    "既可以取得長度，又可以重複迭代，寫起來不會太複雜。"
   ]
  },
  {
   "cell_type": "code",
   "execution_count": 52,
   "id": "weird-region",
   "metadata": {},
   "outputs": [
    {
     "name": "stdout",
     "output_type": "stream",
     "text": [
      "length = 6\n",
      "1\n",
      "2\n",
      "3\n",
      "4\n",
      "5\n",
      "6\n"
     ]
    }
   ],
   "source": [
    "class Integers:\n",
    "    def __init__(self, m, M):\n",
    "        self.m = m\n",
    "        self.n = M - m\n",
    "\n",
    "    def __getitem__(self, i):\n",
    "        if i < 0 or i >= self.n:\n",
    "            raise IndexError(f\"Valid index should lies in [0, {self.n}).\")\n",
    "\n",
    "        else:\n",
    "            return self.m + i\n",
    "\n",
    "    def __len__(self):\n",
    "        return self.n\n",
    "\n",
    "integers = Integers(1, 7)\n",
    "print(f\"length = {len(integers)}\")\n",
    "\n",
    "for i in integers:\n",
    "    print(i)"
   ]
  },
  {
   "cell_type": "markdown",
   "id": "concrete-situation",
   "metadata": {},
   "source": [
    "# Interface\n",
    "對寫程式這件事情而言，藍圖是很重要的。\n",
    "Interface 扮演了程式的藍圖這個角色。\n",
    "\n",
    "但你應該還記得 Python 沒有內建的 interface，因此我們使用 abc (abstract based class) 來建構 interface。"
   ]
  },
  {
   "cell_type": "code",
   "execution_count": 53,
   "id": "minute-hands",
   "metadata": {},
   "outputs": [],
   "source": [
    "class Transform(ABC):\n",
    "    @abstractmethod\n",
    "    def __call__(self, data):\n",
    "        raise NotImplemented"
   ]
  },
  {
   "cell_type": "code",
   "execution_count": 54,
   "id": "adaptive-registration",
   "metadata": {},
   "outputs": [
    {
     "ename": "TypeError",
     "evalue": "Can't instantiate abstract class LinearTransformation with abstract methods __call__",
     "output_type": "error",
     "traceback": [
      "\u001b[0;31m---------------------------------------------------------------------------\u001b[0m",
      "\u001b[0;31mTypeError\u001b[0m                                 Traceback (most recent call last)",
      "\u001b[0;32m<ipython-input-54-5810d25d2553>\u001b[0m in \u001b[0;36m<module>\u001b[0;34m\u001b[0m\n\u001b[1;32m      7\u001b[0m         \u001b[0;32mreturn\u001b[0m \u001b[0mself\u001b[0m\u001b[0;34m.\u001b[0m\u001b[0mA\u001b[0m \u001b[0;34m*\u001b[0m \u001b[0mdata\u001b[0m \u001b[0;34m+\u001b[0m \u001b[0mself\u001b[0m\u001b[0;34m.\u001b[0m\u001b[0mb\u001b[0m\u001b[0;34m\u001b[0m\u001b[0;34m\u001b[0m\u001b[0m\n\u001b[1;32m      8\u001b[0m \u001b[0;34m\u001b[0m\u001b[0m\n\u001b[0;32m----> 9\u001b[0;31m \u001b[0mf\u001b[0m \u001b[0;34m=\u001b[0m \u001b[0mLinearTransformation\u001b[0m\u001b[0;34m(\u001b[0m\u001b[0;36m2\u001b[0m\u001b[0;34m,\u001b[0m \u001b[0;36m1\u001b[0m\u001b[0;34m)\u001b[0m\u001b[0;34m\u001b[0m\u001b[0;34m\u001b[0m\u001b[0m\n\u001b[0m",
      "\u001b[0;31mTypeError\u001b[0m: Can't instantiate abstract class LinearTransformation with abstract methods __call__"
     ]
    }
   ],
   "source": [
    "class LinearTransformation(Transform):\n",
    "    def __init__(self, slope, intercept):\n",
    "        self.A = slope\n",
    "        self.b = intercept\n",
    "\n",
    "    def call(self, data):\n",
    "        return self.A * data + self.b\n",
    "\n",
    "f = LinearTransformation(2, 1)"
   ]
  },
  {
   "cell_type": "code",
   "execution_count": 55,
   "id": "annoying-alabama",
   "metadata": {},
   "outputs": [
    {
     "name": "stdout",
     "output_type": "stream",
     "text": [
      "f(3) = 7\n"
     ]
    }
   ],
   "source": [
    "class LinearTransformation(Transform):\n",
    "    def __init__(self, slope, intercept):\n",
    "        self.A = slope\n",
    "        self.b = intercept\n",
    "\n",
    "    def __call__(self, data):\n",
    "        return self.A * data + self.b\n",
    "\n",
    "f = LinearTransformation(2, 1)\n",
    "print(f\"f(3) = {f(3)}\")"
   ]
  },
  {
   "cell_type": "markdown",
   "id": "prepared-hebrew",
   "metadata": {},
   "source": [
    "# Your Turn!\n",
    "1. 把 from abc import ABC, abstractmethod 和定義 Transform 的部分存在一個 .py 檔，命名為 utils.py\n",
    "2. 定義一個名為 AffineTransformation 的 callable class:\n",
    "  * initialize 一個矩陣 $A$ 和一個向量 $b$\n",
    "  * 吃一個向量 $x$ 會吐一個向量 $y = Ax + b$\n",
    "3. 定義一個名為 Fibonacci 的 iterable class:\n",
    "  * initialize a0, a1, n，其中\n",
    "    * a0 和 a1 為兩個初始值條件，預設為 1\n",
    "    * n 表示我們要產生長度為 $n + 1$ 的迭代器\n",
    "  * 當我們啟動它時（即把它擺到 for 迴圈裡面），他會依序產生費氏數列的前 $n + 1$ 項 $a_0, a_1, a_2, ..., a_n$"
   ]
  },
  {
   "cell_type": "code",
   "execution_count": null,
   "id": "contrary-costa",
   "metadata": {},
   "outputs": [],
   "source": [
    "# Problem 2\n",
    "\n",
    "class AffineTransformation(Transform):\n",
    "    # your code here\n",
    "    ..."
   ]
  },
  {
   "cell_type": "code",
   "execution_count": null,
   "id": "magnetic-republic",
   "metadata": {},
   "outputs": [],
   "source": [
    "# check your answer\n",
    "\n",
    "check_answer = False\n",
    "\n",
    "if check_answer:\n",
    "    A = np.array([[1, 2], [3, 4]])\n",
    "    b = np.array([5, 6])\n",
    "    T = AffineTransformation(A, b)\n",
    "\n",
    "    x = np.array([7, 8])\n",
    "    y = A@x + b\n",
    "\n",
    "    if np.all(T(x) == y):\n",
    "        print(\"congratulations!\")\n",
    "\n",
    "    else:\n",
    "        print(\"Oh...\")"
   ]
  },
  {
   "cell_type": "code",
   "execution_count": null,
   "id": "surrounded-redhead",
   "metadata": {},
   "outputs": [],
   "source": [
    "# Problem 3\n",
    "\n",
    "class Fibonacci:\n",
    "    # your code here\n",
    "    ..."
   ]
  },
  {
   "cell_type": "code",
   "execution_count": null,
   "id": "colonial-demographic",
   "metadata": {},
   "outputs": [],
   "source": [
    "check_answer = False\n",
    "\n",
    "if check_answer:\n",
    "    seq = Fibonacci(10)\n",
    "\n",
    "    print(f\"length = {len(seq)}\")\n",
    "    for i in seq:\n",
    "        print(i)"
   ]
  }
 ],
 "metadata": {
  "kernelspec": {
   "display_name": "Python 3",
   "language": "python",
   "name": "python3"
  },
  "language_info": {
   "codemirror_mode": {
    "name": "ipython",
    "version": 3
   },
   "file_extension": ".py",
   "mimetype": "text/x-python",
   "name": "python",
   "nbconvert_exporter": "python",
   "pygments_lexer": "ipython3",
   "version": "3.8.5"
  }
 },
 "nbformat": 4,
 "nbformat_minor": 5
}
